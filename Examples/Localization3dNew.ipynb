{
 "cells": [
  {
   "cell_type": "markdown",
   "id": "3f331986-50ec-4040-90d0-f30564169587",
   "metadata": {},
   "source": [
    "# 5 Slepian Symmetry"
   ]
  },
  {
   "cell_type": "markdown",
   "id": "36c87ce3-57ee-4483-b75f-50ca3c1e6eb7",
   "metadata": {},
   "source": [
    "## Bessel Function"
   ]
  },
  {
   "cell_type": "markdown",
   "id": "2a4de50a-e1ba-4fbb-b8c4-b06e3ee38c1c",
   "metadata": {},
   "source": [
    "Bessel Function of the First Kind, J_m(k), for integer m \n",
    "\n",
    "J_m(k) = sum_{n=0}^{∞} [ (-1)^n / (n! (m+n)!) ] * (k/2)^(m+2n) \n",
    "\n",
    "Also satisfies the symmetry condition J_{-m}(k) = (-1)^m J_m(k).\\\\"
   ]
  },
  {
   "cell_type": "code",
   "execution_count": 9,
   "id": "279a903e-6db6-496d-890c-abf4bfdcaf70",
   "metadata": {},
   "outputs": [
    {
     "name": "stdout",
     "output_type": "stream",
     "text": [
      "Check symmetry condition J_{-m}(k) = (-1)^m J_m(k):\n",
      "m = -2, difference = 0.0\n",
      "m = -1, difference = 0.0\n",
      "m = 0, difference = 0.0\n",
      "m = 1, difference = 0.0\n",
      "m = 2, difference = 0.0\n",
      "\n",
      "Check the sum identity S_M = J_0^2(k) + 2∑_{m=1..M} J_m^2(k), expecting it → 1\n",
      "k = 0.0, M = 20, partial sum = 1.0\n",
      "k = 1.0, M = 20, partial sum = 0.9999999999999999999999999999999999999999999999999998296138925678890401766074983\n",
      "k = 5.0, M = 20, partial sum = 0.999999999999999999999964307560465423684089034832761010233377166154966369493576\n",
      "k = 10.0, M = 20, partial sum = 0.9999999999820720147344384145125405414225483093980344286401843866624406690762224\n",
      "\n",
      "Check 2D expansion J_0(k||x-x'||) with M=10\n",
      " - LHS = -0.2533057497160424370632976814177157851111228433892295300590824470557805147113848\n",
      " - RHS (partial sum up to m=10) = -0.2533057431388011234044304023961841205773432251380264121586651813690459929024044\n",
      " - Difference = -6.577241313658867279021531664533779618251203117900417265686734521808980395896989e-09\n"
     ]
    }
   ],
   "source": [
    "using SpecialFunctions  # for besselj\n",
    "\n",
    "\"\"\"\n",
    "    identity_sum_J(k, M)\n",
    "\n",
    "Compute the partial sum S_M = J_0^2(k) + 2∑_{m=1 to M} J_m^2(k)\n",
    "and compare it to 1. As M -> ∞, we expect S_M -> 1.\n",
    "\"\"\"\n",
    "function identity_sum_J(k::Real, M::Integer)\n",
    "    term0 = besselj(0, k)^2\n",
    "    # sum over m = 1..M\n",
    "    term_sum = sum( besselj(m, k)^2 for m in 1:M )\n",
    "    return term0 + 2*term_sum\n",
    "end\n",
    "\n",
    "\"\"\"\n",
    "    bessel_expansion_2D(k, r, rprime, theta, thetaprime, M)\n",
    "\n",
    "Compute the partial sum of \n",
    "  J_0(k||x - x'||)  ≈  J_0(kr) J_0(kr') + 2∑_{m=1..M} J_m(kr) J_m(kr') cos[m(θ - θ')].\n",
    "Returns a tuple (lhs, rhs_M):\n",
    "\n",
    "- lhs = J_0(k * distance(x, x'))\n",
    "- rhs_M = partial sum up to m = M.\n",
    "  \n",
    "As M grows, rhs_M should converge to lhs.\n",
    "\"\"\"\n",
    "function bessel_expansion_2D(k::Real,\n",
    "                             r::Real, rprime::Real,\n",
    "                             theta::Real, thetaprime::Real,\n",
    "                             M::Integer)\n",
    "    # LHS: exact Bessel function on the distance\n",
    "    # distance in Cartesian: x   = (r cosθ,   r sinθ)\n",
    "    #                       x'  = (r'cosθ', r' sinθ')\n",
    "    # norm(x - x') = sqrt(r^2 + r'^2 - 2 r r' cos(θ - θ'))\n",
    "    dist = sqrt(r^2 + rprime^2 - 2r*rprime*cos(theta - thetaprime))\n",
    "    lhs = besselj(0, k * dist)\n",
    "    \n",
    "    # RHS: partial sum\n",
    "    rhs0 = besselj(0, k*r) * besselj(0, k*rprime)\n",
    "    rhs_sum = 0.0\n",
    "    for m in 1:M\n",
    "        rhs_sum += besselj(m, k*r)*besselj(m, k*rprime)*cos(m*(theta - thetaprime))\n",
    "    end\n",
    "    rhs_M = rhs0 + 2*rhs_sum\n",
    "    \n",
    "    return lhs, rhs_M\n",
    "end"
   ]
  },
  {
   "cell_type": "markdown",
   "id": "e3e45639-ba80-4f99-bf9b-aff829f975eb",
   "metadata": {},
   "source": [
    "### Sanity check for Bessel Function"
   ]
  },
  {
   "cell_type": "code",
   "execution_count": 10,
   "id": "c462e0ab-85be-4e8b-88ae-d252b7603473",
   "metadata": {},
   "outputs": [
    {
     "name": "stdout",
     "output_type": "stream",
     "text": [
      "Check symmetry condition J_{-m}(k) = (-1)^m J_m(k):\n",
      "m = -2, difference = 0.0\n",
      "m = -1, difference = 0.0\n",
      "m = 0, difference = 0.0\n",
      "m = 1, difference = 0.0\n",
      "m = 2, difference = 0.0\n",
      "\n",
      "Check the sum identity S_M = J_0^2(k) + 2∑_{m=1..M} J_m^2(k), expecting it → 1\n",
      "k = 0.0, M = 20, partial sum = 1.0\n",
      "k = 1.0, M = 20, partial sum = 0.9999999999999999999999999999999999999999999999999998296138925678890401766074983\n",
      "k = 5.0, M = 20, partial sum = 0.999999999999999999999964307560465423684089034832761010233377166154966369493576\n",
      "k = 10.0, M = 20, partial sum = 0.9999999999820720147344384145125405414225483093980344286401843866624406690762224\n",
      "\n",
      "Check 2D expansion J_0(k||x-x'||) with M=10\n",
      " - LHS = -0.2533057497160424370632976814177157851111228433892295300590824470557805147113848\n",
      " - RHS (partial sum up to m=10) = -0.2533057431388011234044304023961841205773432251380264121586651813690459929024044\n",
      " - Difference = -6.577241313658867279021531664533779618251203117900417265686734521808980395896989e-09\n"
     ]
    }
   ],
   "source": [
    "\"\"\"\n",
    "    check_symmetry(m, k)\n",
    "\n",
    "Check numerically that J_{-m}(k) = (-1)^m * J_m(k).\n",
    "Returns the difference left - right for a sanity check.\n",
    "\"\"\"\n",
    "function check_symmetry(m::Integer, k::Real)\n",
    "    left  = besselj(-m, k)\n",
    "    right = (-1)^m * besselj(m, k)\n",
    "    return left - right\n",
    "end\n",
    "\n",
    "println(\"Check symmetry condition J_{-m}(k) = (-1)^m J_m(k):\")\n",
    "for m in -2:2\n",
    "    diff = check_symmetry(m, 5.0)\n",
    "    println(\"m = $m, difference = $(diff)\")\n",
    "end\n",
    "println()\n",
    "\n",
    "# 2) Check the identity 1 = J_0^2(k) + 2∑_{m=1 to ∞} J_m^2(k)\n",
    "# We'll do a partial sum up to M = 20 for some k values:\n",
    "kvals = [0.0, 1.0, 5.0, 10.0]\n",
    "M = 20\n",
    "println(\"Check the sum identity S_M = J_0^2(k) + 2∑_{m=1..M} J_m^2(k), expecting it → 1\")\n",
    "for k in kvals\n",
    "    s_M = identity_sum_J(k, M)\n",
    "    println(\"k = $k, M = $M, partial sum = $s_M\")\n",
    "end\n",
    "println()\n",
    "\n",
    "# 3) Check the 2D expansion\n",
    "# Suppose r=1, r'=2, theta=0.1 rad, theta'=1.0 rad, k=3. We'll do partial sums up to M=10:\n",
    "r, rprime = 1.0, 2.0\n",
    "theta, thetaprime = 0.1, 1.0\n",
    "k = 3.0\n",
    "M = 10\n",
    "lhs, rhs_M = bessel_expansion_2D(k, r, rprime, theta, thetaprime, M)\n",
    "println(\"Check 2D expansion J_0(k||x-x'||) with M=$M\")\n",
    "println(\" - LHS = $lhs\")\n",
    "println(\" - RHS (partial sum up to m=$M) = $rhs_M\")\n",
    "println(\" - Difference = \", lhs - rhs_M)"
   ]
  },
  {
   "cell_type": "code",
   "execution_count": null,
   "id": "555d274a-4143-42fa-9ed0-48ec02258420",
   "metadata": {},
   "outputs": [],
   "source": []
  }
 ],
 "metadata": {
  "kernelspec": {
   "display_name": "Julia 1.11.2",
   "language": "julia",
   "name": "julia-1.11"
  },
  "language_info": {
   "file_extension": ".jl",
   "mimetype": "application/julia",
   "name": "julia",
   "version": "1.11.2"
  }
 },
 "nbformat": 4,
 "nbformat_minor": 5
}
