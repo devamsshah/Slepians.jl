{
 "cells": [
  {
   "cell_type": "markdown",
   "id": "3f331986-50ec-4040-90d0-f30564169587",
   "metadata": {},
   "source": [
    "# 5 Slepian Symmetry"
   ]
  },
  {
   "cell_type": "code",
   "execution_count": 6,
   "id": "a97404f3-cd43-49d9-9349-45c27da241f2",
   "metadata": {},
   "outputs": [],
   "source": [
    "using SpecialFunctions  # for besselj\n",
    "using QuadGK            # for numerical integration quadgk\n",
    "using Printf\n",
    "using LinearAlgebra     # just for norm, if needed"
   ]
  },
  {
   "cell_type": "markdown",
   "id": "36c87ce3-57ee-4483-b75f-50ca3c1e6eb7",
   "metadata": {},
   "source": [
    "## Bessel Function"
   ]
  },
  {
   "cell_type": "markdown",
   "id": "2a4de50a-e1ba-4fbb-b8c4-b06e3ee38c1c",
   "metadata": {},
   "source": [
    "Bessel Function of the First Kind, J_m(k), for integer m \n",
    "\n",
    "J_m(k) = sum_{n=0}^{∞} [ (-1)^n / (n! (m+n)!) ] * (k/2)^(m+2n) \n",
    "\n",
    "Also satisfies the symmetry condition J_{-m}(k) = (-1)^m J_m(k).\\\\"
   ]
  },
  {
   "cell_type": "code",
   "execution_count": 9,
   "id": "279a903e-6db6-496d-890c-abf4bfdcaf70",
   "metadata": {},
   "outputs": [
    {
     "data": {
      "text/plain": [
       "bessel_expansion_2D"
      ]
     },
     "execution_count": 9,
     "metadata": {},
     "output_type": "execute_result"
    }
   ],
   "source": [
    "\"\"\"\n",
    "    identity_sum_J(k, M)\n",
    "\n",
    "Compute the partial sum S_M = J_0^2(k) + 2∑_{m=1 to M} J_m^2(k)\n",
    "and compare it to 1. As M -> ∞, we expect S_M -> 1.\n",
    "\"\"\"\n",
    "function identity_sum_J(k::Real, M::Integer)\n",
    "    term0 = besselj(0, k)^2\n",
    "    # sum over m = 1..M\n",
    "    term_sum = sum( besselj(m, k)^2 for m in 1:M )\n",
    "    return term0 + 2*term_sum\n",
    "end\n",
    "\n",
    "\"\"\"\n",
    "    bessel_expansion_2D(k, r, rprime, theta, thetaprime, M)\n",
    "\n",
    "Compute the partial sum of \n",
    "  J_0(k||x - x'||)  ≈  J_0(kr) J_0(kr') + 2∑_{m=1..M} J_m(kr) J_m(kr') cos[m(θ - θ')].\n",
    "Returns a tuple (lhs, rhs_M):\n",
    "\n",
    "- lhs = J_0(k * distance(x, x'))\n",
    "- rhs_M = partial sum up to m = M.\n",
    "  \n",
    "As M grows, rhs_M should converge to lhs.\n",
    "\"\"\"\n",
    "function bessel_expansion_2D(k::Real,\n",
    "                             r::Real, rprime::Real,\n",
    "                             theta::Real, thetaprime::Real,\n",
    "                             M::Integer)\n",
    "    # LHS: exact Bessel function on the distance\n",
    "    # distance in Cartesian: x   = (r cosθ,   r sinθ)\n",
    "    #                       x'  = (r'cosθ', r' sinθ')\n",
    "    # norm(x - x') = sqrt(r^2 + r'^2 - 2 r r' cos(θ - θ'))\n",
    "    dist = sqrt(r^2 + rprime^2 - 2r*rprime*cos(theta - thetaprime))\n",
    "    lhs = besselj(0, k * dist)\n",
    "    \n",
    "    # RHS: partial sum\n",
    "    rhs0 = besselj(0, k*r) * besselj(0, k*rprime)\n",
    "    rhs_sum = 0.0\n",
    "    for m in 1:M\n",
    "        rhs_sum += besselj(m, k*r)*besselj(m, k*rprime)*cos(m*(theta - thetaprime))\n",
    "    end\n",
    "    rhs_M = rhs0 + 2*rhs_sum\n",
    "    \n",
    "    return lhs, rhs_M\n",
    "end"
   ]
  },
  {
   "cell_type": "markdown",
   "id": "e3e45639-ba80-4f99-bf9b-aff829f975eb",
   "metadata": {},
   "source": [
    "### Sanity check for Bessel Function"
   ]
  },
  {
   "cell_type": "code",
   "execution_count": 10,
   "id": "c462e0ab-85be-4e8b-88ae-d252b7603473",
   "metadata": {},
   "outputs": [
    {
     "name": "stdout",
     "output_type": "stream",
     "text": [
      "Check symmetry condition J_{-m}(k) = (-1)^m J_m(k):\n",
      "m = -2, difference = 0.0\n",
      "m = -1, difference = 0.0\n",
      "m = 0, difference = 0.0\n",
      "m = 1, difference = 0.0\n",
      "m = 2, difference = 0.0\n",
      "\n",
      "Check the sum identity S_M = J_0^2(k) + 2∑_{m=1..M} J_m^2(k), expecting it → 1\n",
      "k = 0.0, M = 20, partial sum = 1.0\n",
      "k = 1.0, M = 20, partial sum = 1.0\n",
      "k = 5.0, M = 20, partial sum = 0.9999999999999999\n",
      "k = 10.0, M = 20, partial sum = 0.9999999999820721\n",
      "\n",
      "Check 2D expansion J_0(k||x-x'||) with M=10\n",
      " - LHS = -0.25330574971604225\n",
      " - RHS (partial sum up to m=10) = -0.25330574313880105\n",
      " - Difference = -6.577241196126238e-9\n"
     ]
    }
   ],
   "source": [
    "\"\"\"\n",
    "    check_symmetry(m, k)\n",
    "\n",
    "Check numerically that J_{-m}(k) = (-1)^m * J_m(k).\n",
    "Returns the difference left - right for a sanity check.\n",
    "\"\"\"\n",
    "function check_symmetry(m::Integer, k::Real)\n",
    "    left  = besselj(-m, k)\n",
    "    right = (-1)^m * besselj(m, k)\n",
    "    return left - right\n",
    "end\n",
    "\n",
    "println(\"Check symmetry condition J_{-m}(k) = (-1)^m J_m(k):\")\n",
    "for m in -2:2\n",
    "    diff = check_symmetry(m, 5.0)\n",
    "    println(\"m = $m, difference = $(diff)\")\n",
    "end\n",
    "println()\n",
    "\n",
    "# 2) Check the identity 1 = J_0^2(k) + 2∑_{m=1 to ∞} J_m^2(k)\n",
    "# We'll do a partial sum up to M = 20 for some k values:\n",
    "kvals = [0.0, 1.0, 5.0, 10.0]\n",
    "M = 20\n",
    "println(\"Check the sum identity S_M = J_0^2(k) + 2∑_{m=1..M} J_m^2(k), expecting it → 1\")\n",
    "for k in kvals\n",
    "    s_M = identity_sum_J(k, M)\n",
    "    println(\"k = $k, M = $M, partial sum = $s_M\")\n",
    "end\n",
    "println()\n",
    "\n",
    "# 3) Check the 2D expansion\n",
    "# Suppose r=1, r'=2, theta=0.1 rad, theta'=1.0 rad, k=3. We'll do partial sums up to M=10:\n",
    "r, rprime = 1.0, 2.0\n",
    "theta, thetaprime = 0.1, 1.0\n",
    "k = 3.0\n",
    "M = 10\n",
    "lhs, rhs_M = bessel_expansion_2D(k, r, rprime, theta, thetaprime, M)\n",
    "println(\"Check 2D expansion J_0(k||x-x'||) with M=$M\")\n",
    "println(\" - LHS = $lhs\")\n",
    "println(\" - RHS (partial sum up to m=$M) = $rhs_M\")\n",
    "println(\" - Difference = \", lhs - rhs_M)"
   ]
  },
  {
   "cell_type": "markdown",
   "id": "c001229f-403e-4a4e-9942-e5e3191a6e89",
   "metadata": {},
   "source": [
    "### Equation 50, 51 and 52 "
   ]
  },
  {
   "cell_type": "code",
   "execution_count": 11,
   "id": "555d274a-4143-42fa-9ed0-48ec02258420",
   "metadata": {},
   "outputs": [
    {
     "data": {
      "text/plain": [
       "limit_Jm_over_sqrt_k (generic function with 1 method)"
      ]
     },
     "execution_count": 11,
     "metadata": {},
     "output_type": "execute_result"
    }
   ],
   "source": [
    "# ---------------------------------------------------------------\n",
    "# 50) J0(k) via integral definition\n",
    "#    J0(k) = (2π)^(-1) * ∫[0..2π] e^{ i k cos(θ) } dθ\n",
    "#\n",
    "#    Since J0(k) is real, we can integrate cos(k cos θ) instead\n",
    "#    because  real( e^{ i x } ) = cos(x).\n",
    "# ---------------------------------------------------------------\n",
    "function J0_def(k::Real)\n",
    "    f(θ) = cos(k * cos(θ))   # real part of e^{ i k cos(θ) }\n",
    "    val, err = quadgk(f, 0, 2π)\n",
    "    return val / (2π)\n",
    "end\n",
    "\n",
    "# ---------------------------------------------------------------\n",
    "# 50) J1(k) via integral definition\n",
    "#    J1(k) = (1/k) * ∫[0..k] [ k' J0(k') ] dk'\n",
    "# ---------------------------------------------------------------\n",
    "function J1_def(k::Real)\n",
    "    # For k=0, define J1(0) = 0 by continuity.\n",
    "    if k == 0\n",
    "        return 0.0\n",
    "    end\n",
    "    \n",
    "    f(kp) = kp * besselj(0, kp)   # besselj(0, kp) is J0(k')\n",
    "    val, err = quadgk(f, 0, k)\n",
    "    return (1/k) * val\n",
    "end\n",
    "\n",
    "# ---------------------------------------------------------------\n",
    "# 51) J_(1/2)(k) closed form\n",
    "#    J_{1/2}(k) = sqrt(2/(π k)) * sin(k)\n",
    "# ---------------------------------------------------------------\n",
    "function J_half_def(k::Real)\n",
    "    return sqrt(2/(π*k)) * sin(k)\n",
    "end\n",
    "\n",
    "# ---------------------------------------------------------------\n",
    "# 52) Check derivative identity:\n",
    "#    d/dk [ k J1(k) ] = k J0(k).\n",
    "#\n",
    "# We'll verify numerically by finite differences:\n",
    "#    ( k J1(k) )' ≈ [ k+δ * J1(k+δ) - k * J1(k) ] / δ\n",
    "# ---------------------------------------------------------------\n",
    "function check_derivative_identity(k::Real; δ=1e-6)\n",
    "    # left side: finite difference approximation of d/dk [k J1(k)]\n",
    "    left = ((k+δ)*besselj(1, k+δ) - k*besselj(1, k)) / δ\n",
    "    \n",
    "    # right side: k J0(k)\n",
    "    right = k * besselj(0, k)\n",
    "    \n",
    "    return left - right  # difference should be ~ 0\n",
    "end\n",
    "\n",
    "# ---------------------------------------------------------------\n",
    "# 52) Limits\n",
    "#    i)   lim_{k -> 0} [ J1(k)/k ] = 0.5\n",
    "#    ii)  lim_{k -> 0} [ J_m(k)/sqrt(k) ] = 0   (for m>0)\n",
    "#\n",
    "# We'll just show approximate evaluations near k=0.\n",
    "# ---------------------------------------------------------------\n",
    "\n",
    "function limit_J1_over_k(ε::Real=1e-8)\n",
    "    return besselj(1, ε)/ε\n",
    "end\n",
    "\n",
    "function limit_Jm_over_sqrt_k(m::Integer; ε=1e-8)\n",
    "    return besselj(m, ε)/sqrt(ε)\n",
    "end\n"
   ]
  },
  {
   "cell_type": "markdown",
   "id": "950c6efc-9ab9-40c4-bfff-8f238c7f1e4c",
   "metadata": {},
   "source": [
    "### Sanity check for eq 50, 51, 52"
   ]
  },
  {
   "cell_type": "code",
   "execution_count": 12,
   "id": "2677d0af-a9e3-428c-9a32-36c6b57217db",
   "metadata": {},
   "outputs": [
    {
     "name": "stdout",
     "output_type": "stream",
     "text": [
      "=== 1) Compare J0 via integral with built-in besselj(0, k) ===\n",
      "k =  0.0 | Integral-based J0_def(k) =  1.000000 | besselj(0,k) =  1.000000 | Diff =  0.000000e+00\n",
      "k =  1.0 | Integral-based J0_def(k) =  0.765198 | besselj(0,k) =  0.765198 | Diff =  1.110223e-16\n",
      "k =  5.0 | Integral-based J0_def(k) = -0.177597 | besselj(0,k) = -0.177597 | Diff = -1.387779e-16\n",
      "\n",
      "=== 2) Compare J1 via integral with built-in besselj(1, k) ===\n",
      "k =  0.0 | Integral-based J1_def(k) =  0.000000 | besselj(1,k) =  0.000000 | Diff =  0.000000e+00\n",
      "k =  1.0 | Integral-based J1_def(k) =  0.440051 | besselj(1,k) =  0.440051 | Diff =  0.000000e+00\n",
      "k =  5.0 | Integral-based J1_def(k) = -0.327579 | besselj(1,k) = -0.327579 | Diff =  0.000000e+00\n",
      "\n",
      "=== 3) J_(1/2)(k) = √[2/(πk)] sin(k) ===\n",
      "k =  0.5 | J_{1/2} from formula =  0.540974 | besselj(0.5,k) =  0.540974 | Diff = -5.551115e-16\n",
      "k =  1.0 | J_{1/2} from formula =  0.671397 | besselj(0.5,k) =  0.671397 | Diff = -6.661338e-16\n",
      "k =  3.0 | J_{1/2} from formula =  0.065008 | besselj(0.5,k) =  0.065008 | Diff = -1.387779e-17\n",
      "k =  5.0 | J_{1/2} from formula = -0.342168 | besselj(0.5,k) = -0.342168 | Diff =  1.276756e-15\n",
      "\n",
      "=== 4) Check derivative identity: d/dk[k J1(k)] ≟ k J0(k) ===\n",
      "k =  0.1 | difference ≈  4.962545e-07\n",
      "k =  1.0 | difference ≈  1.625262e-07\n",
      "k =  5.0 | difference ≈  7.295425e-07\n",
      "\n",
      "=== 5) Limits as k -> 0 ===\n",
      "J1(k)/k at k=1e-8 ≈ 0.5  (expected ~ 0.5)\n",
      "J1(k)/√k at k=1e-8 ≈ 5e-05  (expected ~ 0)\n"
     ]
    }
   ],
   "source": [
    "\n",
    "# ---------------------------------------------------------------\n",
    "# Example Usage & Printouts\n",
    "# ---------------------------------------------------------------\n",
    "println(\"=== 1) Compare J0 via integral with built-in besselj(0, k) ===\")\n",
    "for k in [0.0, 1.0, 5.0]\n",
    "    j0_int = J0_def(k)\n",
    "    j0_sf  = besselj(0, k)\n",
    "    @printf(\"k = %4.1f | Integral-based J0_def(k) = % .6f | besselj(0,k) = % .6f | Diff = % .6e\\n\",\n",
    "            k, j0_int, j0_sf, j0_int - j0_sf)\n",
    "end\n",
    "println()\n",
    "\n",
    "println(\"=== 2) Compare J1 via integral with built-in besselj(1, k) ===\")\n",
    "for k in [0.0, 1.0, 5.0]\n",
    "    j1_int = J1_def(k)\n",
    "    j1_sf  = besselj(1, k)\n",
    "    @printf(\"k = %4.1f | Integral-based J1_def(k) = % .6f | besselj(1,k) = % .6f | Diff = % .6e\\n\",\n",
    "            k, j1_int, j1_sf, j1_int - j1_sf)\n",
    "end\n",
    "println()\n",
    "\n",
    "println(\"=== 3) J_(1/2)(k) = √[2/(πk)] sin(k) ===\")\n",
    "for k in [0.5, 1.0, 3.0, 5.0]\n",
    "    j_half_exact = J_half_def(k)\n",
    "    # We can also compare with besselj(0.5, k) from SpecialFunctions\n",
    "    j_half_sf    = besselj(0.5, k)\n",
    "    @printf(\"k = %4.1f | J_{1/2} from formula = % .6f | besselj(0.5,k) = % .6f | Diff = % .6e\\n\",\n",
    "            k, j_half_exact, j_half_sf, j_half_exact - j_half_sf)\n",
    "end\n",
    "println()\n",
    "\n",
    "println(\"=== 4) Check derivative identity: d/dk[k J1(k)] ≟ k J0(k) ===\")\n",
    "for k in [0.1, 1.0, 5.0]\n",
    "    diff = check_derivative_identity(k)\n",
    "    @printf(\"k = %4.1f | difference ≈ % .6e\\n\", k, diff)\n",
    "end\n",
    "println()\n",
    "\n",
    "println(\"=== 5) Limits as k -> 0 ===\")\n",
    "# (i)  J1(k)/k -> 0.5\n",
    "val1 = limit_J1_over_k()\n",
    "@printf(\"J1(k)/k at k=1e-8 ≈ %g  (expected ~ 0.5)\\n\", val1)\n",
    "\n",
    "# (ii) For m>0, J_m(k)/√k -> 0\n",
    "m_test = 1\n",
    "val2 = limit_Jm_over_sqrt_k(m_test)\n",
    "@printf(\"J%d(k)/√k at k=1e-8 ≈ %g  (expected ~ 0)\\n\", m_test, val2)"
   ]
  },
  {
   "cell_type": "markdown",
   "id": "91d6697e-43a3-4a00-8a4b-e3f3f4987f47",
   "metadata": {},
   "source": [
    "## Equation 54: Kernel:- D(x, x') for k = 1 for now"
   ]
  },
  {
   "cell_type": "code",
   "execution_count": null,
   "id": "dcaf89ea-148d-4f12-9950-db8fcf8ad6b0",
   "metadata": {},
   "outputs": [],
   "source": [
    "\"\"\"\n",
    "    D(x, xprime)\n",
    "\n",
    "Computes D(x, x') = (K J_1(K ||x - x'||)) / (2π ||x - x'||),\n",
    "where K = 1, and ||x - x'|| is the Euclidean distance between x and x'.\n",
    "\"\"\"\n",
    "function D(x::Tuple{Real, Real}, xprime::Tuple{Real, Real})\n",
    "    # Extract coordinates\n",
    "    x1, x2 = x\n",
    "    x1p, x2p = xprime\n",
    "    \n",
    "    # Euclidean distance ||x - x'||\n",
    "    distance = norm([x1 - x1p, x2 - x2p])\n",
    "    \n",
    "    # Handle edge case where x == x' (distance = 0)\n",
    "    if distance == 0\n",
    "        error(\"D(x, x') is undefined for x == x' (division by zero).\")\n",
    "    end\n",
    "    \n",
    "    # Compute D(x, x')\n",
    "    K = 1  # Given K = 1\n",
    "    return (K * besselj(1, K * distance)) / (2π * distance)\n",
    "end\n",
    "\n",
    "# Example usage\n",
    "x = (1.0, 2.0)          # Example point x\n",
    "xprime = (2.0, 3.0)     # Example point x'\n",
    "result = D(x, xprime)\n",
    "println(\"D(x, x') = $result\")\n"
   ]
  }
 ],
 "metadata": {
  "kernelspec": {
   "display_name": "Julia 1.11.2",
   "language": "julia",
   "name": "julia-1.11"
  },
  "language_info": {
   "file_extension": ".jl",
   "mimetype": "application/julia",
   "name": "julia",
   "version": "1.11.2"
  }
 },
 "nbformat": 4,
 "nbformat_minor": 5
}
